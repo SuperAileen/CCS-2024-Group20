{
 "cells": [
  {
   "cell_type": "code",
   "execution_count": 16,
   "id": "9fb6ab72",
   "metadata": {},
   "outputs": [
    {
     "ename": "SyntaxError",
     "evalue": "invalid syntax (modules.py, line 53)",
     "output_type": "error",
     "traceback": [
      "Traceback \u001b[1;36m(most recent call last)\u001b[0m:\n",
      "\u001b[0m  File \u001b[0;32mC:\\conda\\lib\\site-packages\\IPython\\core\\interactiveshell.py:3526\u001b[0m in \u001b[0;35mrun_code\u001b[0m\n    exec(code_obj, self.user_global_ns, self.user_ns)\u001b[0m\n",
      "\u001b[1;36m  Cell \u001b[1;32mIn[16], line 4\u001b[1;36m\n\u001b[1;33m    import modules as mod\u001b[1;36m\n",
      "\u001b[1;36m  File \u001b[1;32m~\\School\\Complex System Simulation\\CSS-2024\\modules.py:53\u001b[1;36m\u001b[0m\n\u001b[1;33m    def ep_fundamentalist(p_t, P_F)\u001b[0m\n\u001b[1;37m                                   ^\u001b[0m\n\u001b[1;31mSyntaxError\u001b[0m\u001b[1;31m:\u001b[0m invalid syntax\n"
     ]
    }
   ],
   "source": [
    "import numpy as np\n",
    "import pandas as pd\n",
    "import matplotlib.pyplot as plt\n",
    "import modules as mod"
   ]
  },
  {
   "cell_type": "markdown",
   "id": "4f87534c",
   "metadata": {},
   "source": [
    "### Global parameters"
   ]
  },
  {
   "cell_type": "code",
   "execution_count": 17,
   "id": "e0ce000f",
   "metadata": {},
   "outputs": [],
   "source": [
    "# Number of market participants \n",
    "N = 1600 \n",
    "\n",
    "# Number of fundamentalists and chartists\n",
    "N_FUND = 800\n",
    "N_CHART = 800\n",
    "\n",
    "# Initial price of the asset traded\n",
    "P_0 = 100\n",
    "\n",
    "# Global fundamental price \n",
    "P_F = 120\n",
    "\n",
    "# Variation around the global fundamental price \n",
    "THETA = 30\n",
    "\n",
    "# Maximum extension for chartists' timesteps window \n",
    "T_MAX = 15\n",
    "\n",
    "# Sensitivity of forecasts for fundamentalists\n",
    "PHI = 2.0\n",
    "\n",
    "# Sensitivity of forecasts for chartists \n",
    "KAPPA = 2.0\n",
    "\n",
    "# level of information dissipation among the agents\n",
    "ALPHA = 0.95\n",
    "\n",
    "# Weight of the market imbalance\n",
    "DELTA = 0.05\n",
    "\n",
    "# Intervals of variation for the stochastic noise term \n",
    "SIGMA = 30\n",
    "\n",
    "# Sensitivity threshold for choosing the status\n",
    "TAO = 20\n",
    "\n",
    "# Asset quantity for each trader\n",
    "Q = 50\n",
    "\n",
    "# Initializing traders' wealth (W), money (M), and asset quantity(Q)\n",
    "M = 35000  \n",
    "Q = 50 \n",
    "W = [M + Q * P_0 for _ in range(N)] \n",
    "\n",
    "# Function to calculate expected price for fundamentalists\n",
    "def ep_fundamentalist(p_t, P_F):\n",
    "    \"\"\"\n",
    "    Calculate the expected price for a fundamentalist trader\n",
    "\n",
    "    Parameters:\n",
    "    p_t (float): The current market price of the asset\n",
    "    p_f (float): The perceived fundamental price of the asset for the trader\n",
    "\n",
    "    Returns:\n",
    "    float: The expected price for the asset for a fundamentalist trader\n",
    "    \"\"\"\n",
    "    noise = np.random.uniform(-SIGMA, SIGMA)\n",
    "    # Was not too sure about using an uniform or normal distribution here\n",
    "    p_f = np.random.uniform(P_F - THETA, P_F + THETA)\n",
    "    return p_t + PHI * (p_f - p_t) + noise\n",
    "## TODO: \n",
    "\"\"\"\n",
    "Implement the following for chartists where T is randomized:\n",
    "\n",
    "A chartist decides her behavior according to her inspection of past prices. Therefore, the expected price of each\n",
    "trader belonging to this group is a function of past prices:\n",
    "in particular we adopt the average of last T prices over\n",
    "a time window that is different for each chartist (T ∈ [2,\n",
    "Tmax]).\n",
    "\"\"\"\n",
    "\n",
    "def expected_price_chartist(p_t, past_prices):\n",
    "    \"\"\"\n",
    "    Calculate the expected price for a chartist trader\n",
    "\n",
    "    Parameters:\n",
    "    p_t (float): The current market price of the asset\n",
    "    past_prices (list of float): A list of past market prices of the asset\n",
    "\n",
    "    Returns:\n",
    "    float: The expected price for the asset as calculated by a chartist trader\n",
    "    \"\"\"\n",
    "    p_T = np.mean(past_prices[:T_MAX]) \n",
    "    noise = random.uniform(-SIGMA, SIGMA)\n",
    "    return p_t + KAPPA * (p_t - p_T) + noise"
   ]
  },
  {
   "cell_type": "code",
   "execution_count": 19,
   "id": "495f53c6",
   "metadata": {},
   "outputs": [
    {
     "data": {
      "text/plain": [
       "117.50250471105113"
      ]
     },
     "execution_count": 19,
     "metadata": {},
     "output_type": "execute_result"
    }
   ],
   "source": [
    "expected_price_fundamentalist(P_0, P_F)"
   ]
  },
  {
   "cell_type": "markdown",
   "id": "213d2891",
   "metadata": {},
   "source": [
    "### OB-CFP model"
   ]
  }
 ],
 "metadata": {
  "kernelspec": {
   "display_name": "Python 3 (ipykernel)",
   "language": "python",
   "name": "python3"
  },
  "language_info": {
   "codemirror_mode": {
    "name": "ipython",
    "version": 3
   },
   "file_extension": ".py",
   "mimetype": "text/x-python",
   "name": "python",
   "nbconvert_exporter": "python",
   "pygments_lexer": "ipython3",
   "version": "3.9.18"
  }
 },
 "nbformat": 4,
 "nbformat_minor": 5
}
