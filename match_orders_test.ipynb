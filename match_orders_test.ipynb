{
 "cells": [
  {
   "cell_type": "code",
   "execution_count": null,
   "id": "7d06f3d4",
   "metadata": {},
   "outputs": [],
   "source": [
    "    def match_orders(self):\n",
    "        \"\"\"\n",
    "        Match bid and ask orders in the order book.\n",
    "\n",
    "        Returns:\n",
    "        - list: List of dictionaries representing matched transactions.\n",
    "        \"\"\"\n",
    "        self.bids.sort(key=lambda x: x['price'], reverse=True)\n",
    "        self.asks.sort(key=lambda x: x['price'])\n",
    "        N_T = 0 \n",
    "        while self.bids and self.asks:\n",
    "            best_bid = self.bids[0]\n",
    "            best_ask = self.asks[0]\n",
    "\n",
    "            if best_bid['price'] >= best_ask['price']:\n",
    "                # Remove matched orders\n",
    "                p_L = self.asks[0]['price']\n",
    "                self.agents_dict[self.asks[0]['trader_id']][3] -= 1    # amount of the asset\n",
    "                self.agents_dict[self.bids[0]['trader_id']][3] += 1 \n",
    "                self.agents_dict[self.asks[0]['trader_id']][2] += p_L  # amount of money\n",
    "                self.agents_dict[self.bids[0]['trader_id']][2] -= p_L\n",
    "                self.bids.pop(0)\n",
    "                self.asks.pop(0)\n",
    "                self.N_b -= 1\n",
    "                self.N_a -= 1\n",
    "                N_T += 1\n",
    "            \n",
    "            else:\n",
    "                self.trade_counts.append(N_T)\n",
    "                break  # No more possible transactions\n",
    "        \n",
    "        return N_T, p_L"
   ]
  },
  {
   "cell_type": "code",
   "execution_count": 3,
   "id": "3029900e",
   "metadata": {},
   "outputs": [
    {
     "name": "stdout",
     "output_type": "stream",
     "text": [
      "Number of transactions: 2\n",
      "Last transaction price: 102\n",
      "Trade counts: []\n"
     ]
    }
   ],
   "source": [
    "def match_orders(bids, asks, agents_dict):\n",
    "    N_b = len(bids)\n",
    "    N_a = len(asks)\n",
    "    N_T = 0\n",
    "    trade_counts = []\n",
    "\n",
    "    bids.sort(key=lambda x: x['price'], reverse=True)\n",
    "    asks.sort(key=lambda x: x['price'])\n",
    "\n",
    "    while bids and asks:\n",
    "        best_bid = bids[0]\n",
    "        best_ask = asks[0]\n",
    "\n",
    "        if best_bid['price'] >= best_ask['price']:\n",
    "            # Simulating order match and removal\n",
    "            p_L = asks[0]['price']\n",
    "            agents_dict[asks[0]['trader_id']][3] -= 1\n",
    "            agents_dict[bids[0]['trader_id']][3] += 1\n",
    "            agents_dict[asks[0]['trader_id']][2] += p_L\n",
    "            agents_dict[bids[0]['trader_id']][2] -= p_L\n",
    "            bids.pop(0)\n",
    "            asks.pop(0)\n",
    "            N_b -= 1\n",
    "            N_a -= 1\n",
    "            N_T += 1\n",
    "        else:\n",
    "            trade_counts.append(N_T)\n",
    "            break  # No more possible transactions\n",
    "\n",
    "\n",
    "    return N_T, p_L, trade_counts\n",
    "\n",
    "# Sample bid and ask lists\n",
    "bids = [{'trader_id': 1, 'price': 105}, {'trader_id': 2, 'price': 104}]\n",
    "asks = [{'trader_id': 3, 'price': 103}, {'trader_id': 4, 'price': 102}, {'trader_id': 5, 'price': 101}]\n",
    "\n",
    "# Dummy agents_dict\n",
    "agents_dict = {i: [0, 0, 100, 10, 0, '', 0.0] for i in range(1, 6)}\n",
    "\n",
    "# Run the match_orders function\n",
    "N_T, p_L, trade_counts = match_orders(bids, asks, agents_dict)\n",
    "\n",
    "# Print results\n",
    "print(\"Number of transactions:\", N_T)\n",
    "print(\"Last transaction price:\", p_L)\n",
    "print(\"Trade counts:\", trade_counts)\n"
   ]
  },
  {
   "cell_type": "code",
   "execution_count": null,
   "id": "9564b4a9",
   "metadata": {},
   "outputs": [],
   "source": []
  }
 ],
 "metadata": {
  "kernelspec": {
   "display_name": "Python 3 (ipykernel)",
   "language": "python",
   "name": "python3"
  },
  "language_info": {
   "codemirror_mode": {
    "name": "ipython",
    "version": 3
   },
   "file_extension": ".py",
   "mimetype": "text/x-python",
   "name": "python",
   "nbconvert_exporter": "python",
   "pygments_lexer": "ipython3",
   "version": "3.11.4"
  }
 },
 "nbformat": 4,
 "nbformat_minor": 5
}
