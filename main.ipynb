{
 "cells": [
  {
   "cell_type": "code",
   "execution_count": null,
   "id": "c9bdb9d3",
   "metadata": {
    "lines_to_next_cell": 2
   },
   "outputs": [],
   "source": [
    "import matplotlib.pyplot as plt\n",
    "import pickle\n",
    "from HelpingFunctions import *\n",
    "from ContagionMechanism import *\n",
    "from OrderBook import *\n",
    "from Constants import *"
   ]
  },
  {
   "cell_type": "markdown",
   "id": "851d6df6",
   "metadata": {},
   "source": [
    "### Agents data creation"
   ]
  },
  {
   "cell_type": "code",
   "execution_count": null,
   "id": "19aa1158",
   "metadata": {},
   "outputs": [],
   "source": [
    "# Initialize dictionary to hold agent information\n",
    "agents_dict = {}"
   ]
  },
  {
   "cell_type": "code",
   "execution_count": null,
   "id": "f83d539a",
   "metadata": {},
   "outputs": [],
   "source": [
    "# Initialize past price with initial price P_0 for T_MAX time steps\n",
    "past_price = [P_0 for i in range(T_MAX)]"
   ]
  },
  {
   "cell_type": "code",
   "execution_count": null,
   "id": "831d3d9b",
   "metadata": {},
   "outputs": [],
   "source": [
    "# Initialize fundamentalist agents\n",
    "for i in range(N_FUND):\n",
    "    ep = ep_fundamentalist(P_0, P_F)\n",
    "    agents_dict[i] = ['fund',\n",
    "                      W[i],\n",
    "                      M,\n",
    "                      Q,\n",
    "                      ep,\n",
    "                      determine_order_type(ep, P_0, TAO, M, Q),\n",
    "                      np.random.uniform(0, Ith),\n",
    "                      0\n",
    "                      ]"
   ]
  },
  {
   "cell_type": "code",
   "execution_count": null,
   "id": "bd0b0b06",
   "metadata": {},
   "outputs": [],
   "source": [
    "# Initialize chartist agents\n",
    "for i in range(N_FUND, N_FUND + N_CHART):\n",
    "    ep = ep_chartist(P_0, past_price)\n",
    "    agents_dict[i] = ['chart',\n",
    "                      W[i],\n",
    "                      M,\n",
    "                      Q,\n",
    "                      ep,\n",
    "                      determine_order_type(ep, P_0, TAO, M, Q),\n",
    "                      np.random.uniform(0, Ith),\n",
    "                      0\n",
    "                      ]"
   ]
  },
  {
   "cell_type": "code",
   "execution_count": null,
   "id": "2b4ee28b",
   "metadata": {},
   "outputs": [],
   "source": [
    "# Set order price for each agent based on their decision\n",
    "for agent_id in agents_dict:\n",
    "    decision = agents_dict[agent_id][5]\n",
    "    order_price = set_order_price(decision, agents_dict[agent_id][4], P_0, agents_dict[agent_id][2])\n",
    "    agents_dict[agent_id][7] = order_price"
   ]
  },
  {
   "cell_type": "markdown",
   "id": "799d2c57",
   "metadata": {},
   "source": [
    "### Creating the network & Avalanche visualisation"
   ]
  },
  {
   "cell_type": "code",
   "execution_count": null,
   "id": "955a531a",
   "metadata": {},
   "outputs": [],
   "source": [
    "# Create network structure\n",
    "network = create_lattice_small_world_network()"
   ]
  },
  {
   "cell_type": "code",
   "execution_count": null,
   "id": "941bf26c",
   "metadata": {},
   "outputs": [],
   "source": [
    "# Initialize OrderBook and Network objects\n",
    "ob = OrderBook(DELTA, agents_dict)\n",
    "nw = Network(ALPHA, ob.agents_dict, network)"
   ]
  },
  {
   "cell_type": "markdown",
   "id": "ec69f962",
   "metadata": {},
   "source": [
    "The following cell if one were to uncomment the first few lines, you would recreate the simulation where the networks runs 10000 times which is approximately where $T_{SOC}$ is. To save time this is already done by getting it from a pickle file which already ran this."
   ]
  },
  {
   "cell_type": "code",
   "execution_count": null,
   "id": "84183d21",
   "metadata": {},
   "outputs": [],
   "source": [
    "# # Run network cycle for a specified number of times\n",
    "# for cycle in range(10000):\n",
    "#     print(\"i\", cycle)\n",
    "#     nw.network_cycle()\n",
    "\n",
    "# # Save the Network object to a file\n",
    "# with open('nw_object.pkl', 'wb') as file:\n",
    "#     pickle.dump(nw, file)\n",
    "    \n",
    "with open('nw_object.pkl', 'rb') as input_file:\n",
    "    nw = pickle.load(input_file)"
   ]
  },
  {
   "cell_type": "code",
   "execution_count": null,
   "id": "57ac4f5f",
   "metadata": {},
   "outputs": [],
   "source": [
    "# Plot the size of information avalanches over time\n",
    "plt.plot(range(len(nw.info_counts)), nw.info_counts)\n",
    "plt.xlabel(\"Time Steps\")\n",
    "plt.ylabel(\"Size of Info Avalanche\")\n",
    "plt.title(\"Time Series of Info Avalanches\")\n",
    "plt.savefig(\"Avalanche.png\")"
   ]
  },
  {
   "cell_type": "markdown",
   "id": "57e64096",
   "metadata": {},
   "source": [
    "### Running the simulations"
   ]
  },
  {
   "cell_type": "code",
   "execution_count": null,
   "id": "3e7a7729",
   "metadata": {},
   "outputs": [],
   "source": [
    "# Simulation 1 cycle\n",
    "current_market_price = P_0\n",
    "simulations = 9000\n",
    "asset_prices = []\n",
    "data_at_timesteps = {0: {}, 100: {}, 1000: {}, 9000: {}}"
   ]
  },
  {
   "cell_type": "code",
   "execution_count": null,
   "id": "e5455bdf",
   "metadata": {},
   "outputs": [],
   "source": [
    "# Run the simulation for a specified number of times\n",
    "for sim in range(simulations):\n",
    "    ob.agents_dict = nw.agents_dict  # Send Network agents_dict to Orderbook\n",
    "    \n",
    "    # Place bids or asks based on agents' decisions\n",
    "    for agent_id in ob.agents_dict:\n",
    "        decision = ob.agents_dict[agent_id][5]\n",
    "        order_price = ob.agents_dict[agent_id][7]\n",
    "        if decision == \"buy\":\n",
    "            ob.place_bid(agent_id, order_price)\n",
    "        elif decision == \"sell\":\n",
    "            ob.place_ask(agent_id, order_price)\n",
    "    \n",
    "    # Set aggregate price and update past price\n",
    "    current_market_price = ob.set_aggregate_price(current_market_price)\n",
    "    asset_prices.append(current_market_price)\n",
    "    past_price.pop(0)\n",
    "    past_price.append(current_market_price)\n",
    "\n",
    "     # Check if the current simulation step is one of the timesteps we're interested in\n",
    "    if sim in data_at_timesteps:\n",
    "        # Collect the data for this timestep\n",
    "        asset_quantities_at_t = [agent[3] for agent in ob.agents_dict.values()]\n",
    "        monies_at_t = [agent[2] for agent in ob.agents_dict.values()]\n",
    "        total_wealths_at_t = [m + current_market_price * q for m, q in zip(monies_at_t, asset_quantities_at_t)]\n",
    "\n",
    "        data_at_timesteps[sim]['asset_quantities'] = asset_quantities_at_t\n",
    "        data_at_timesteps[sim]['monies'] = monies_at_t\n",
    "        data_at_timesteps[sim]['total_wealths'] = total_wealths_at_t\n",
    "\n",
    "    # Update fundamentalist and chartist agents' expected prices and decisions\n",
    "    for agent_id in range(N_FUND):\n",
    "        ep = ep_fundamentalist(current_market_price, P_F)\n",
    "        ob.agents_dict[agent_id][4] = ep\n",
    "        ob.agents_dict[agent_id][5] = determine_order_type(ep,\n",
    "                                                          current_market_price,\n",
    "                                                          TAO, ob.agents_dict[agent_id][2],\n",
    "                                                          ob.agents_dict[agent_id][3])\n",
    "    for agent_id in range(N_FUND, N_FUND + N_CHART):\n",
    "        ep = ep_chartist(current_market_price, past_price)\n",
    "        ob.agents_dict[agent_id][4] = ep\n",
    "        ob.agents_dict[agent_id][5] = determine_order_type(ep,\n",
    "                                                           current_market_price,\n",
    "                                                           TAO, ob.agents_dict[agent_id][2],\n",
    "                                                           ob.agents_dict[agent_id][3])\n",
    "\n",
    "    # Update the network and run a network cycle\n",
    "    nw = Network(ALPHA, ob.agents_dict, network)\n",
    "    nw.network_cycle()"
   ]
  },
  {
   "cell_type": "markdown",
   "id": "cc8fef7e",
   "metadata": {},
   "source": [
    "### Plot asset prices at different time steps"
   ]
  },
  {
   "cell_type": "code",
   "execution_count": null,
   "id": "3aee1507",
   "metadata": {},
   "outputs": [],
   "source": [
    "plt.figure().set_figwidth(15)\n",
    "plt.plot(list(range(len(asset_prices))), asset_prices, label='asset price')\n",
    "plt.axhline(y=120, color='r', linestyle='--', label='fundamental price 120')\n",
    "plt.xlabel(\"Time Steps\")\n",
    "plt.ylabel(\"Asset Price\")\n",
    "plt.legend()\n",
    "plt.savefig(\"Asset Price 9000 Timestep.png\")"
   ]
  },
  {
   "cell_type": "code",
   "execution_count": null,
   "id": "448c4b46",
   "metadata": {},
   "outputs": [],
   "source": [
    "# Calculate and Plot the return distribution\n",
    "asset_prices_subset = asset_prices\n",
    "\n",
    "# Calculate returns rt\n",
    "rt = np.log(asset_prices_subset[1:]) - np.log(asset_prices_subset[:-1])\n",
    "\n",
    "# Calculate average return and standard deviation\n",
    "r_avg = np.mean(rt)\n",
    "r_stdev = np.std(rt)\n",
    "\n",
    "# Calculate normalized returns r^NORM\n",
    "r_norm = (rt - r_avg) / r_stdev\n",
    "r_norm_filtered = r_norm[(r_norm > -3) & (r_norm < 3)]"
   ]
  },
  {
   "cell_type": "code",
   "execution_count": null,
   "id": "fb635779",
   "metadata": {},
   "outputs": [],
   "source": [
    "# Plot the asset price time series\n",
    "plt.figure().set_figwidth(15)\n",
    "plt.plot(asset_prices_subset, color='steelblue')\n",
    "plt.axhline(y=120, color='r', linestyle='--')\n",
    "plt.title('Asset Price Time Series (First 2000 Points)')\n",
    "plt.xlabel('Time Steps')\n",
    "plt.ylabel('Asset Price')\n",
    "plt.show()"
   ]
  },
  {
   "cell_type": "code",
   "execution_count": null,
   "id": "b94a05b5",
   "metadata": {},
   "outputs": [],
   "source": [
    "# Plot the normalized returns time series\n",
    "plt.figure().set_figwidth(15)\n",
    "plt.plot(r_norm, color='black')\n",
    "plt.axhline(y=0, color='r', linestyle='--')\n",
    "plt.title('Normalized Returns (First 2000 Points)')\n",
    "plt.xlabel('Time Steps')\n",
    "plt.ylabel('Normalized Returns')\n",
    "plt.show()"
   ]
  },
  {
   "cell_type": "code",
   "execution_count": null,
   "id": "5e19042f",
   "metadata": {},
   "outputs": [],
   "source": [
    "# Calculate the probability density function (PDF) of the normalized returns\n",
    "counts, bin_edges = np.histogram(r_norm, bins=200, density=True)\n",
    "bin_centers = (bin_edges[:-1] + bin_edges[1:]) / 2"
   ]
  },
  {
   "cell_type": "code",
   "execution_count": null,
   "id": "9fde86a9",
   "metadata": {
    "lines_to_next_cell": 1
   },
   "outputs": [],
   "source": [
    "# Definition of the q-Gaussian function\n",
    "def q_gaussian(x, A, B, q):\n",
    "    return A * np.power(1 - (1 - q) * B * np.power(x, 2), 1 / (1 - q))"
   ]
  },
  {
   "cell_type": "code",
   "execution_count": null,
   "id": "328ccad3",
   "metadata": {},
   "outputs": [],
   "source": [
    "# Parameters for the q-Gaussian\n",
    "A = 0.98\n",
    "B = 7\n",
    "q_list = np.arange(1.3, 2.0, 0.1)  # Including q=2.0 as per the plot in the provided image"
   ]
  },
  {
   "cell_type": "code",
   "execution_count": null,
   "id": "5e33e25b",
   "metadata": {},
   "outputs": [],
   "source": [
    "# Plot the PDF of the normalized returns\n",
    "plt.figure(figsize=(10, 6))\n",
    "plt.scatter(bin_centers, counts, label='OB-CFP Model', color='blue')\n",
    "\n",
    "# Plot the q-Gaussian\n",
    "for q in q_list:\n",
    "    plt.plot(bin_centers, q_gaussian(bin_centers, A, B, q), label=f'q-Gaussian q={q:.1f}')\n",
    "\n",
    "# Set x-axis and y-axis limits\n",
    "plt.xlim(-10, 10)\n",
    "plt.ylim(10**-3, 10**0.4) \n",
    "plt.yscale('log')\n",
    "plt.xlabel('Normalized Returns')\n",
    "plt.ylabel('Probability Density')\n",
    "plt.legend()\n",
    "plt.show()"
   ]
  },
  {
   "cell_type": "markdown",
   "id": "94662833",
   "metadata": {},
   "source": [
    "### Plot the evolution of asset, money, and wealth distribution"
   ]
  },
  {
   "cell_type": "code",
   "execution_count": null,
   "id": "fdb70487",
   "metadata": {
    "lines_to_next_cell": 0
   },
   "outputs": [],
   "source": [
    "fig, axs = plt.subplots(4, 3, figsize=(15, 20)) \n",
    "\n",
    "# Colors for different plots\n",
    "colors = ['red', 'blue', 'green']\n",
    "\n",
    "# Iterate through each timestep and each data type to plot\n",
    "for i, (t, data_dict) in enumerate(data_at_timesteps.items()):\n",
    "    axs[i, 0].hist(data_dict['asset_quantities'], bins=30, color=colors[0])\n",
    "    axs[i, 1].hist(data_dict['monies'], bins=30, color=colors[1])\n",
    "    axs[i, 2].hist(data_dict['total_wealths'], bins=30, color=colors[2])\n",
    "    \n",
    "    # Set titles and axis labels for each subplot\n",
    "    axs[i, 0].set_title(f'Asset Quantity at t={t}')\n",
    "    axs[i, 1].set_title(f'Money at t={t}')\n",
    "    axs[i, 2].set_title(f'Total Wealth at t={t}')\n",
    "    \n",
    "# Adjust spacing between subplots\n",
    "plt.tight_layout()\n",
    "plt.show()"
   ]
  }
 ],
 "metadata": {
  "jupytext": {
   "cell_metadata_filter": "-all",
   "main_language": "python",
   "notebook_metadata_filter": "-all"
  },
  "kernelspec": {
   "display_name": "Python 3 (ipykernel)",
   "language": "python",
   "name": "python3"
  },
  "language_info": {
   "codemirror_mode": {
    "name": "ipython",
    "version": 3
   },
   "file_extension": ".py",
   "mimetype": "text/x-python",
   "name": "python",
   "nbconvert_exporter": "python",
   "pygments_lexer": "ipython3",
   "version": "3.9.18"
  }
 },
 "nbformat": 4,
 "nbformat_minor": 5
}
